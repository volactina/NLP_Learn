{
 "cells": [
  {
   "cell_type": "code",
   "execution_count": 14,
   "metadata": {},
   "outputs": [],
   "source": [
    "import os\n",
    "import re"
   ]
  },
  {
   "cell_type": "code",
   "execution_count": 380,
   "metadata": {},
   "outputs": [
    {
     "name": "stdout",
     "output_type": "stream",
     "text": [
      "1000\n",
      "---------------------开始抽取 疾病名称 ---------------------\n",
      "---------------------开始抽取 疾病数量 ---------------------\n",
      "投保年龄上限 : 0\n",
      "投保年龄下限 : 0\n",
      "保险期间长度 : 0\n",
      "缴费方式 : 0\n",
      "犹豫期 : 0\n",
      "犹豫期后退还金额 : 0\n",
      "犹豫期后退换时长 : 0\n",
      "工本费 : 0\n",
      "宽限期长度 : 0\n",
      "保险责任名称 : 0\n",
      "等待期内 : 0\n",
      "等待期后 : 0\n",
      "对应疾病\\/手术\\/治疗 : 0\n",
      "赔付条件 : 0\n",
      "按次赔付_单次赔付金额 : 0\n",
      "按次赔付_限赔次数 : 0\n",
      "和其他保险责任只赔付一项 : 0\n",
      "免责条款对应保险责任 : 0\n",
      "免责条款内容 : 0\n",
      "免责退还金额 : 0\n",
      "申请贷款条件 : 0\n",
      "未偿还贷款可以自动进入下一期 : 0\n",
      "贷款金额 : 0\n",
      "贷款期限 : 0\n",
      "计息方式 : 0\n",
      "疾病集合名称 : 0\n",
      "疾病名称 : 997\n",
      "疾病观察期 : 0\n",
      "疾病数量 : 1000\n",
      "产品名称 : 0\n",
      "产品条款文字编码 : 0\n"
     ]
    }
   ],
   "source": [
    "#main()\n",
    "inputrootdir='C:\\\\Users\\\\叶文豪\\\\Desktop\\\\NLP\\\\IR_PROJECT\\\\PROJECT 1\\\\IT\\\\Project_Data'\n",
    "outputrootdir='C:\\\\Users\\\\叶文豪\\\\Desktop\\\\NLP\\\\IR_PROJECT\\\\PROJECT 1\\\\IT\\\\Result\\\\'\n",
    "info=[(extract_0,'投保年龄上限',False,0),                     \n",
    "      (extract_1,'投保年龄下限',False,0),\n",
    "      (extract_2,'保险期间长度',False,0),\n",
    "      (extract_3,'缴费方式',False,0),\n",
    "      (extract_4,'犹豫期',False,0),\n",
    "      (extract_5,'犹豫期后退还金额',False,0),\n",
    "      (extract_6,'犹豫期后退换时长',False,0),\n",
    "      (extract_7,'工本费',False,0),\n",
    "      (extract_8,'宽限期长度',False,0),\n",
    "      (extract_9,'保险责任名称',False,0),\n",
    "      (extract_10,'等待期内',False,0),\n",
    "      (extract_11,'等待期后',False,0),\n",
    "      (extract_12,'对应疾病\\/手术\\/治疗',False,0),\n",
    "      (extract_13,'赔付条件',False,0),\n",
    "      (extract_14,'按次赔付_单次赔付金额',False,0),\n",
    "      (extract_15,'按次赔付_限赔次数',False,0),\n",
    "      (extract_16,'和其他保险责任只赔付一项',False,0),\n",
    "      (extract_17,'免责条款对应保险责任',False,0),\n",
    "      (extract_18,'免责条款内容',False,0),\n",
    "      (extract_19,'免责退还金额',False,0),\n",
    "      (extract_20,'申请贷款条件',False,0),\n",
    "      (extract_21,'未偿还贷款可以自动进入下一期',False,0),\n",
    "      (extract_22,'贷款金额',False,0),\n",
    "      (extract_23,'贷款期限',False,0),\n",
    "      (extract_24,'计息方式',False,0),\n",
    "      (extract_25,'疾病集合名称',False,0),\n",
    "      (extract_26,'疾病名称',True,0),\n",
    "      (extract_27,'疾病观察期',False,0),\n",
    "      (extract_28,'疾病数量',True,0),\n",
    "      (extract_29,'产品名称',False,0),\n",
    "      (extract_30,'产品条款文字编码',False,0)]\n",
    "generate(inputrootdir)"
   ]
  },
  {
   "cell_type": "code",
   "execution_count": 359,
   "metadata": {},
   "outputs": [],
   "source": [
    "def generate(inputrootdir):\n",
    "    flist = os.listdir(inputrootdir)\n",
    "    print(len(flist))\n",
    "    for i in range(0,len(flist)):\n",
    "        inputdir = os.path.join(inputrootdir, flist[i])\n",
    "        sentences=[]\n",
    "        with open(inputdir,'r',encoding='utf-8') as finput:\n",
    "            text=finput.read()\n",
    "            sentences=re.split('[ ，。．：.；、【】…（）★·()]',text)\n",
    "            for sentence in sentences:\n",
    "                if(\"start\" in sentence or \"end\" in sentence or \"---\" in sentence or len(sentence)<=2):\n",
    "                    sentences.remove(sentence)\n",
    "                    continue\n",
    "        for infonum in range(0,len(info)):\n",
    "            if(retrieval(flist[i],sentences,outputrootdir,info,infonum,True if (i==0) else False)==1):\n",
    "                info[infonum]=(info[infonum][0],info[infonum][1],info[infonum][2],info[infonum][3]+1)\n",
    "    for infonum in range(0,len(info)):\n",
    "        print(info[infonum][1],\":\",info[infonum][3])\n",
    "            "
   ]
  },
  {
   "cell_type": "code",
   "execution_count": 360,
   "metadata": {},
   "outputs": [],
   "source": [
    "def retrieval(fname,sentences,outputrootdir,info,infonum,isFirst):\n",
    "    if(not info[infonum][2]):\n",
    "        return 0\n",
    "    outputdir=outputrootdir+info[infonum][1]+\".txt\"\n",
    "    if (isFirst):\n",
    "        print(\"---------------------开始抽取\",info[infonum][1],\"---------------------\")\n",
    "        foutput=open(outputdir,\"w\",encoding='utf-8')\n",
    "    else:\n",
    "        foutput=open(outputdir,\"a\",encoding='utf-8')\n",
    "    result=\"None\"\n",
    "    result=info[infonum][0](sentences)\n",
    "    foutput.write(fname+\" \"+str(result)+'\\n')\n",
    "    foutput.close()\n",
    "    if(result==\"None\"):\n",
    "        return 0\n",
    "    else:\n",
    "        return 1"
   ]
  },
  {
   "cell_type": "code",
   "execution_count": 361,
   "metadata": {},
   "outputs": [],
   "source": [
    "def extract_0(sentences):\n",
    "    results=set()\n",
    "    for sentence in sentences:\n",
    "        if ((\"日\" in sentence or \"周岁\" in sentence) and re.search('([0-9一二三四五六七八九十零百])+[天|日|周岁]',sentence)!=None):\n",
    "            results.add(sentence)\n",
    "    results2=set()\n",
    "    for s in results:\n",
    "        if(\"投保\" in s):\n",
    "            results2.add(s)\n",
    "    results3=set()\n",
    "    for s in results2:\n",
    "        if(\"投保年龄\" in s or \"投保范围\" in s):\n",
    "            results3.add(s)\n",
    "    for s in results3:\n",
    "        tmp=re.findall(r'([0-9一二三四五六七八九十零百]+(日|周岁))',s)\n",
    "        ages=set()\n",
    "        for k in tmp:\n",
    "            ages.add(k[0])\n",
    "        ageslist=[]\n",
    "        for k in ages:\n",
    "            ageslist.append(k)\n",
    "        ageslist.append(\"None\")\n",
    "        ageslist.append(\"None\")\n",
    "        if(\"0周岁\" in ageslist[1] or (\"日\" in ageslist[1] and \"周岁\" in ageslist[0])):\n",
    "            return str(ageslist[1])\n",
    "        else:\n",
    "            return str(ageslist[0])\n",
    "    return \"None\""
   ]
  },
  {
   "cell_type": "code",
   "execution_count": 362,
   "metadata": {},
   "outputs": [],
   "source": [
    "def extract_1(sentences):\n",
    "    results=set()\n",
    "    for sentence in sentences:\n",
    "        if ((\"日\" in sentence or \"周岁\" in sentence) and re.search('([0-9一二三四五六七八九十零百])+[天|日|周岁]',sentence)!=None):\n",
    "            results.add(sentence)\n",
    "    results2=set()\n",
    "    for s in results:\n",
    "        if(\"投保\" in s):\n",
    "            results2.add(s)\n",
    "    results3=set()\n",
    "    for s in results2:\n",
    "        if(\"投保年龄\" in s or \"投保范围\" in s):\n",
    "            results3.add(s)\n",
    "    for s in results3:\n",
    "        tmp=re.findall(r'([0-9一二三四五六七八九十零百]+(日|周岁))',s)\n",
    "        ages=set()\n",
    "        for k in tmp:\n",
    "            ages.add(k[0])\n",
    "        ageslist=[]\n",
    "        for k in ages:\n",
    "            ageslist.append(k)\n",
    "        ageslist.append(\"None\")\n",
    "        ageslist.append(\"None\")\n",
    "        if(\"0周岁\" in ageslist[1] or (\"日\" in ageslist[1] and \"周岁\" in ageslist[0])):\n",
    "            return str(ageslist[0])\n",
    "        else:\n",
    "            return str(ageslist[1])\n",
    "    return \"None\""
   ]
  },
  {
   "cell_type": "code",
   "execution_count": 363,
   "metadata": {},
   "outputs": [],
   "source": [
    "###保险期间长度---------------------------------------------------未完待续\n",
    "def extract_2(sentences):\n",
    "    results=set()\n",
    "    for sentence in sentences:\n",
    "        if (\"百年人寿\" not in sentence and \"保险期间\" in sentence and re.search('([0-9一二三四五六七八九十零百])+(天|日|年|月|个月|周)',sentence)!=None):\n",
    "            results.add(sentence)\n",
    "    for s in results:\n",
    "        tmp=re.findall(r'([0-9一二三四五六七八九十零百]+[日天个月年周]+)',s)\n",
    "        dates=[]\n",
    "        for s in tmp:\n",
    "            if(\"年\" in s and len(s)>3):\n",
    "                continue\n",
    "            dates.append(s)\n",
    "        dates.append(\"None\")\n",
    "        return str(dates[0])\n",
    "    return \"None\"\n",
    "    "
   ]
  },
  {
   "cell_type": "code",
   "execution_count": 364,
   "metadata": {},
   "outputs": [],
   "source": [
    "###缴费方式-------------------------------------------------------\n",
    "def extract_3(sentences):\n",
    "    results=set()\n",
    "    for sentence in sentences:\n",
    "        if (\"保险费\" in sentence and \"退还\" not in sentence and \"豁免\" not in sentence and \"续\" not in sentence):\n",
    "            tmp=re.search('(一次性|分期).+保险费',sentence)\n",
    "            if(tmp==None or (\"一次性\" not in sentence and \"分期\" not in sentence)):\n",
    "                continue\n",
    "                return \"None\"\n",
    "            return str(tmp.group(0))"
   ]
  },
  {
   "cell_type": "code",
   "execution_count": 365,
   "metadata": {},
   "outputs": [],
   "source": [
    "###犹豫期\n",
    "def extract_4(sentences):\n",
    "    results=set()\n",
    "    for sentence in sentences:\n",
    "        if (\"犹豫期\" in sentence and re.search('[0-9一二三四五六七八九十零百]+(日|周|天|月)',sentence)!=None):\n",
    "            results.add(sentence)\n",
    "    for s in results:\n",
    "        tmp=re.findall(r'([0-9一二三四五六七八九十零百]+[日周天月]+)',s)\n",
    "        dates=[]\n",
    "        for s in tmp:\n",
    "            dates.append(s)\n",
    "        return str(dates[0])"
   ]
  },
  {
   "cell_type": "code",
   "execution_count": 366,
   "metadata": {},
   "outputs": [],
   "source": [
    "###犹豫期后退还金额-------------------------------------------------------\n",
    "def extract_5(sentences):\n",
    "    results=set()\n",
    "    for sentence in sentences:\n",
    "        if (\"退还\" in sentence and \"保险费\" in sentence):\n",
    "            tmp=re.search('退还(.*保险费)',sentence)\n",
    "            if(\"不退还\" in sentence or tmp==None):\n",
    "                return \"None\"\n",
    "            return str(tmp.group(0))"
   ]
  },
  {
   "cell_type": "code",
   "execution_count": 367,
   "metadata": {},
   "outputs": [],
   "source": [
    "###犹豫期后退还时长\n",
    "def extract_6(sentences):\n",
    "    results=set()\n",
    "    for sentence in sentences:\n",
    "        if (\"宽限期\" not in sentence and \"百年人寿\" not in sentence and \"退还\" in sentence and re.search('([0-9一二三四五六七八九十零百])+(天|日|年|月|个月|周)',sentence)!=None):\n",
    "            results.add(sentence)\n",
    "    for s in results:\n",
    "        tmp=re.findall(r'([0-9一二三四五六七八九十零百]+[日天个月年周]+)',s)\n",
    "        dates=[]\n",
    "        for s in tmp:\n",
    "            dates.append(s)\n",
    "        dates.append(\"None\")\n",
    "        return str(dates[0])\n",
    "    return \"None\""
   ]
  },
  {
   "cell_type": "code",
   "execution_count": 368,
   "metadata": {},
   "outputs": [],
   "source": [
    "###工本费-------------------------------------------------------\n",
    "def extract_7(sentences):\n",
    "    results=set()\n",
    "    for sentence in sentences:\n",
    "        if (\"扣除\" in sentence and \"工本费\" in sentence):\n",
    "            tmp=re.search('扣除(.+元).*工本费',sentence)\n",
    "            if(tmp==None):\n",
    "                return \"None\"\n",
    "            return str(tmp.group(0))"
   ]
  },
  {
   "cell_type": "code",
   "execution_count": 369,
   "metadata": {},
   "outputs": [],
   "source": [
    "###宽限期长度\n",
    "def extract_8(sentences):\n",
    "    results=set()\n",
    "    for sentence in sentences:\n",
    "        if (\"宽限\" in sentence and re.search('([0-9一二三四五六七八九十零百])+(天|日|年|月|个月)',sentence)!=None):\n",
    "            results.add(sentence)\n",
    "    for s in results:\n",
    "        tmp=re.findall(r'([0-9一二三四五六七八九十零百]+[日天年]+)',s)\n",
    "        dates=[]\n",
    "        for s in tmp:\n",
    "            if(\"年\" in s and len(s)>3):\n",
    "                continue\n",
    "            if(\"一日\" in s):\n",
    "                continue\n",
    "            dates.append(s)\n",
    "        dates.append(\"None\")\n",
    "        return str(dates[0])\n",
    "    return \"None\""
   ]
  },
  {
   "cell_type": "code",
   "execution_count": 370,
   "metadata": {},
   "outputs": [],
   "source": [
    "def extract_9(sentences):\n",
    "    return \"None\""
   ]
  },
  {
   "cell_type": "code",
   "execution_count": 371,
   "metadata": {},
   "outputs": [],
   "source": [
    "def extract_10(sentences):\n",
    "    return \"None\""
   ]
  },
  {
   "cell_type": "code",
   "execution_count": 336,
   "metadata": {},
   "outputs": [],
   "source": [
    "def extract_11(sentences):\n",
    "    return \"None\""
   ]
  },
  {
   "cell_type": "code",
   "execution_count": 337,
   "metadata": {},
   "outputs": [],
   "source": [
    "def extract_12(sentences):\n",
    "    return \"None\""
   ]
  },
  {
   "cell_type": "code",
   "execution_count": 338,
   "metadata": {},
   "outputs": [],
   "source": [
    "def extract_13(sentences):\n",
    "    return \"None\""
   ]
  },
  {
   "cell_type": "code",
   "execution_count": 339,
   "metadata": {},
   "outputs": [],
   "source": [
    "def extract_14(sentences):\n",
    "    return \"None\""
   ]
  },
  {
   "cell_type": "code",
   "execution_count": 340,
   "metadata": {},
   "outputs": [],
   "source": [
    "def extract_15(sentences):\n",
    "    return \"None\""
   ]
  },
  {
   "cell_type": "code",
   "execution_count": 341,
   "metadata": {},
   "outputs": [],
   "source": [
    "def extract_16(sentences):\n",
    "    return \"None\""
   ]
  },
  {
   "cell_type": "code",
   "execution_count": 342,
   "metadata": {},
   "outputs": [],
   "source": [
    "def extract_17(sentences):\n",
    "    return \"None\""
   ]
  },
  {
   "cell_type": "code",
   "execution_count": 343,
   "metadata": {},
   "outputs": [],
   "source": [
    "def extract_18(sentences):\n",
    "    return \"None\""
   ]
  },
  {
   "cell_type": "code",
   "execution_count": 344,
   "metadata": {},
   "outputs": [],
   "source": [
    "def extract_19(sentences):\n",
    "    return \"None\""
   ]
  },
  {
   "cell_type": "code",
   "execution_count": 345,
   "metadata": {},
   "outputs": [],
   "source": [
    "def extract_20(sentences):\n",
    "    return \"None\""
   ]
  },
  {
   "cell_type": "code",
   "execution_count": 346,
   "metadata": {},
   "outputs": [],
   "source": [
    "def extract_21(sentences):\n",
    "    return \"None\""
   ]
  },
  {
   "cell_type": "code",
   "execution_count": 347,
   "metadata": {},
   "outputs": [],
   "source": [
    "def extract_22(sentences):\n",
    "    return \"None\""
   ]
  },
  {
   "cell_type": "code",
   "execution_count": 372,
   "metadata": {},
   "outputs": [],
   "source": [
    "###贷款期限-------------------------------------------------------√\n",
    "def extract_23(sentences):\n",
    "    results=set()\n",
    "    for sentence in sentences:\n",
    "        if (\"期限\" in sentence and re.search('([0-9一二三四五六七八九十零百])+[天|日|年|月|个月]',sentence)!=None):\n",
    "            results.add(sentence)\n",
    "    for s in results:\n",
    "        tmp=re.findall(r'([0-9一二三四五六七八九十零百]+[日个月]+)',s)\n",
    "        dates=[]\n",
    "        for s in tmp:\n",
    "            dates.append(s)\n",
    "        dates.append(\"None\")\n",
    "        return str(dates[0])\n",
    "    return \"None\""
   ]
  },
  {
   "cell_type": "code",
   "execution_count": 349,
   "metadata": {},
   "outputs": [],
   "source": [
    "def extract_24(sentences):\n",
    "    return \"None\""
   ]
  },
  {
   "cell_type": "code",
   "execution_count": 350,
   "metadata": {},
   "outputs": [],
   "source": [
    "def extract_25(sentences):\n",
    "    return \"None\""
   ]
  },
  {
   "cell_type": "code",
   "execution_count": 373,
   "metadata": {},
   "outputs": [],
   "source": [
    "###疾病名称\n",
    "def extract_26(sentences):\n",
    "    din=open(\"C:\\\\Users\\\\叶文豪\\\\Desktop\\\\NLP\\\\IR_PROJECT\\\\PROJECT 1\\\\IT\\Result\\\\疾病字典.txt\",\"r\",encoding='utf-8')\n",
    "    diseases=din.read().split()\n",
    "    din.close()\n",
    "    result=set()\n",
    "    for d in diseases:\n",
    "        Exist=False\n",
    "        for sentence in sentences:\n",
    "            if d in sentence:\n",
    "                Exist=True\n",
    "                break\n",
    "        if (Exist):\n",
    "            result.add(d)\n",
    "    if(len(result)==0):\n",
    "        return \"None\"\n",
    "    return str(result)"
   ]
  },
  {
   "cell_type": "code",
   "execution_count": 374,
   "metadata": {},
   "outputs": [],
   "source": [
    "# fin=open(\"C:\\\\Users\\\\叶文豪\\\\Desktop\\\\NLP\\\\IR_PROJECT\\\\PROJECT 1\\\\IT\\Result\\\\疾病字典.txt\",\"r\",encoding='utf-8')\n",
    "# t=fin.read()\n",
    "# fin.close()\n",
    "# dd=t.split()\n",
    "# fout=open(\"C:\\\\Users\\\\叶文豪\\\\Desktop\\\\NLP\\\\IR_PROJECT\\\\PROJECT 1\\\\IT\\Result\\\\疾病字典.txt\",\"w\",encoding='utf-8')\n",
    "# for d in dd:\n",
    "#     if(\"科\" in d or \"疾病名称\" in d or len(d)==0):\n",
    "#         continue\n",
    "#     if(\"、\" in d):\n",
    "#         ddd=d.split(\"、\")\n",
    "#         for dddd in ddd:\n",
    "#             if(len(dddd)>0):\n",
    "#                 fout.write(dddd+\"\\n\")\n",
    "#     else:\n",
    "#         fout.write(d+\"\\n\")\n",
    "# fout.close()"
   ]
  },
  {
   "cell_type": "code",
   "execution_count": 375,
   "metadata": {},
   "outputs": [],
   "source": [
    "###疾病观察期-------------------------------------------------------√\n",
    "def extract_27(sentences):\n",
    "    results=set()\n",
    "    for sentence in sentences:\n",
    "        if (\"百年人寿\" not in sentence and \"确诊\" in sentence and re.search('([0-9一二三四五六七八九十零百])+(天|日|年|月|个月)',sentence)!=None and re.search('[0-9]+年[0-9]+月[0-9]日',sentence)==None):\n",
    "            results.add(sentence)\n",
    "    for s in results:\n",
    "        tmp=re.findall(r'([0-9一二三四五六七八九十零百]+[日|天|年|个月]+)',s)\n",
    "        dates=[]\n",
    "        for s in tmp:\n",
    "            if(\"年\" in s and len(s)>3):\n",
    "                continue\n",
    "            dates.append(s)\n",
    "        dates.append(\"None\")\n",
    "        return str(dates[0])\n",
    "    return \"None\""
   ]
  },
  {
   "cell_type": "code",
   "execution_count": 376,
   "metadata": {},
   "outputs": [],
   "source": [
    "def extract_28(sentences):\n",
    "    din=open(\"C:\\\\Users\\\\叶文豪\\\\Desktop\\\\NLP\\\\IR_PROJECT\\\\PROJECT 1\\\\IT\\Result\\\\疾病字典.txt\",\"r\",encoding='utf-8')\n",
    "    diseases=din.read().split()\n",
    "    din.close()\n",
    "    result=set()\n",
    "    for d in diseases:\n",
    "        Exist=False\n",
    "        for sentence in sentences:\n",
    "            if d in sentence:\n",
    "                Exist=True\n",
    "                break\n",
    "        if (Exist):\n",
    "            result.add(d)\n",
    "    return len(result)"
   ]
  },
  {
   "cell_type": "code",
   "execution_count": 377,
   "metadata": {},
   "outputs": [],
   "source": [
    "def extract_29(sentences):\n",
    "    return \"None\""
   ]
  },
  {
   "cell_type": "code",
   "execution_count": 378,
   "metadata": {},
   "outputs": [],
   "source": [
    "def extract_30(sentences):\n",
    "    return \"None\""
   ]
  },
  {
   "cell_type": "code",
   "execution_count": 379,
   "metadata": {},
   "outputs": [
    {
     "name": "stdout",
     "output_type": "stream",
     "text": [
      "{1, 2, 3, 4}\n",
      "4\n"
     ]
    }
   ],
   "source": [
    "a={1,2,3,3}\n",
    "\n",
    "a.add(4)\n",
    "print(str(a))\n",
    "print(len(a))"
   ]
  },
  {
   "cell_type": "code",
   "execution_count": null,
   "metadata": {},
   "outputs": [],
   "source": []
  }
 ],
 "metadata": {
  "kernelspec": {
   "display_name": "Python 3",
   "language": "python",
   "name": "python3"
  },
  "language_info": {
   "codemirror_mode": {
    "name": "ipython",
    "version": 3
   },
   "file_extension": ".py",
   "mimetype": "text/x-python",
   "name": "python",
   "nbconvert_exporter": "python",
   "pygments_lexer": "ipython3",
   "version": "3.7.2"
  }
 },
 "nbformat": 4,
 "nbformat_minor": 2
}
