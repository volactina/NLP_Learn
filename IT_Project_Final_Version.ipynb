{
 "cells": [
  {
   "cell_type": "code",
   "execution_count": 14,
   "metadata": {},
   "outputs": [],
   "source": [
    "import os\n",
    "import re"
   ]
  },
  {
   "cell_type": "code",
   "execution_count": null,
   "metadata": {},
   "outputs": [
    {
     "name": "stdout",
     "output_type": "stream",
     "text": [
      "1000\n",
      "---------------------开始抽取 投保年龄上限 ---------------------\n",
      "---------------------开始抽取 投保年龄下限 ---------------------\n",
      "---------------------开始抽取 保险期间长度 ---------------------\n",
      "---------------------开始抽取 缴费方式 ---------------------\n",
      "---------------------开始抽取 犹豫期 ---------------------\n",
      "---------------------开始抽取 犹豫期后退还金额 ---------------------\n",
      "---------------------开始抽取 犹豫期后退换时长 ---------------------\n",
      "---------------------开始抽取 工本费 ---------------------\n",
      "---------------------开始抽取 宽限期长度 ---------------------\n",
      "---------------------开始抽取 贷款期限 ---------------------\n",
      "---------------------开始抽取 疾病观察期 ---------------------\n"
     ]
    }
   ],
   "source": [
    "#main()\n",
    "inputrootdir='C:\\\\Users\\\\叶文豪\\\\Desktop\\\\NLP\\\\IR_PROJECT\\\\PROJECT 1\\\\IT\\\\Project_Data'\n",
    "outputrootdir='C:\\\\Users\\\\叶文豪\\\\Desktop\\\\NLP\\\\IR_PROJECT\\\\PROJECT 1\\\\IT\\\\Result\\\\'\n",
    "info=[(extract_0,'投保年龄上限',True,0),                     \n",
    "      (extract_1,'投保年龄下限',True,0),\n",
    "      (extract_2,'保险期间长度',True,0),\n",
    "      (extract_3,'缴费方式',True,0),\n",
    "      (extract_4,'犹豫期',True,0),\n",
    "      (extract_5,'犹豫期后退还金额',True,0),\n",
    "      (extract_6,'犹豫期后退换时长',True,0),\n",
    "      (extract_7,'工本费',True,0),\n",
    "      (extract_8,'宽限期长度',True,0),\n",
    "      (extract_9,'保险责任名称',False,0),\n",
    "      (extract_10,'等待期内',False,0),\n",
    "      (extract_11,'等待期后',False,0),\n",
    "      (extract_12,'对应疾病\\/手术\\/治疗',False,0),\n",
    "      (extract_13,'赔付条件',False,0),\n",
    "      (extract_14,'按次赔付_单次赔付金额',False,0),\n",
    "      (extract_15,'按次赔付_限赔次数',False,0),\n",
    "      (extract_16,'和其他保险责任只赔付一项',False,0),\n",
    "      (extract_17,'免责条款对应保险责任',False,0),\n",
    "      (extract_18,'免责条款内容',False,0),\n",
    "      (extract_19,'免责退还金额',False,0),\n",
    "      (extract_20,'申请贷款条件',False,0),\n",
    "      (extract_21,'未偿还贷款可以自动进入下一期',False,0),\n",
    "      (extract_22,'贷款金额',False,0),\n",
    "      (extract_23,'贷款期限',True,0),\n",
    "      (extract_24,'计息方式',False,0),\n",
    "      (extract_25,'疾病集合名称',False,0),\n",
    "      (extract_26,'疾病名称',False,0),\n",
    "      (extract_27,'疾病观察期',True,0),\n",
    "      (extract_28,'疾病数量',False,0),\n",
    "      (extract_29,'产品名称',False,0),\n",
    "      (extract_30,'产品条款文字编码',False,0)]\n",
    "generate(inputrootdir)"
   ]
  },
  {
   "cell_type": "code",
   "execution_count": 144,
   "metadata": {},
   "outputs": [],
   "source": [
    "def generate(inputrootdir):\n",
    "    flist = os.listdir(inputrootdir)\n",
    "    print(len(flist))\n",
    "    for i in range(0,len(flist)):\n",
    "        inputdir = os.path.join(inputrootdir, flist[i])\n",
    "        sentences=[]\n",
    "        with open(inputdir,'r',encoding='utf-8') as finput:\n",
    "            text=finput.read()\n",
    "            sentences=re.split('[ ，。．：.；、【】…（）★·()]',text)\n",
    "            for sentence in sentences:\n",
    "                if(\"start\" in sentence or \"end\" in sentence or \"---\" in sentence or len(sentence)<=2):\n",
    "                    sentences.remove(sentence)\n",
    "                    continue\n",
    "        for infonum in range(0,len(info)):\n",
    "            if(retrieval(flist[i],sentences,outputrootdir,info,infonum,True if (i==0) else False)==1):\n",
    "                info[infonum]=(info[infonum][0],info[infonum][1],info[infonum][2],info[infonum][3]+1)\n",
    "    for infonum in range(0,len(info)):\n",
    "        print(info[infonum][1],\":\",info[infonum][3])\n",
    "            "
   ]
  },
  {
   "cell_type": "code",
   "execution_count": 226,
   "metadata": {},
   "outputs": [],
   "source": [
    "def retrieval(fname,sentences,outputrootdir,info,infonum,isFirst):\n",
    "    if(not info[infonum][2]):\n",
    "        return 0\n",
    "    outputdir=outputrootdir+info[infonum][1]+\".txt\"\n",
    "    if (isFirst):\n",
    "        print(\"---------------------开始抽取\",info[infonum][1],\"---------------------\")\n",
    "        foutput=open(outputdir,\"w\",encoding='utf-8')\n",
    "    else:\n",
    "        foutput=open(outputdir,\"a\",encoding='utf-8')\n",
    "    result=\"None\"\n",
    "    result=info[infonum][0](sentences)\n",
    "    foutput.write(fname+\" \"+str(result)+'\\n')\n",
    "    foutput.close()\n",
    "    if(result==\"None\"):\n",
    "        return 0\n",
    "    else:\n",
    "        return 1"
   ]
  },
  {
   "cell_type": "code",
   "execution_count": 227,
   "metadata": {},
   "outputs": [],
   "source": [
    "def extract_0(sentences):\n",
    "    results=set()\n",
    "    for sentence in sentences:\n",
    "        if ((\"日\" in sentence or \"周岁\" in sentence) and re.search('([0-9一二三四五六七八九十零百])+[天|日|周岁]',sentence)!=None):\n",
    "            results.add(sentence)\n",
    "    results2=set()\n",
    "    for s in results:\n",
    "        if(\"投保\" in s):\n",
    "            results2.add(s)\n",
    "    results3=set()\n",
    "    for s in results2:\n",
    "        if(\"投保年龄\" in s or \"投保范围\" in s):\n",
    "            results3.add(s)\n",
    "    for s in results3:\n",
    "        tmp=re.findall(r'([0-9一二三四五六七八九十零百]+(日|周岁))',s)\n",
    "        ages=set()\n",
    "        for k in tmp:\n",
    "            ages.add(k[0])\n",
    "        ageslist=[]\n",
    "        for k in ages:\n",
    "            ageslist.append(k)\n",
    "        ageslist.append(\"None\")\n",
    "        ageslist.append(\"None\")\n",
    "        if(\"0周岁\" in ageslist[1] or (\"日\" in ageslist[1] and \"周岁\" in ageslist[0])):\n",
    "            return str(ageslist[1])\n",
    "        else:\n",
    "            return str(ageslist[0])\n",
    "    return \"None\""
   ]
  },
  {
   "cell_type": "code",
   "execution_count": 228,
   "metadata": {},
   "outputs": [],
   "source": [
    "def extract_1(sentences):\n",
    "    results=set()\n",
    "    for sentence in sentences:\n",
    "        if ((\"日\" in sentence or \"周岁\" in sentence) and re.search('([0-9一二三四五六七八九十零百])+[天|日|周岁]',sentence)!=None):\n",
    "            results.add(sentence)\n",
    "    results2=set()\n",
    "    for s in results:\n",
    "        if(\"投保\" in s):\n",
    "            results2.add(s)\n",
    "    results3=set()\n",
    "    for s in results2:\n",
    "        if(\"投保年龄\" in s or \"投保范围\" in s):\n",
    "            results3.add(s)\n",
    "    for s in results3:\n",
    "        tmp=re.findall(r'([0-9一二三四五六七八九十零百]+(日|周岁))',s)\n",
    "        ages=set()\n",
    "        for k in tmp:\n",
    "            ages.add(k[0])\n",
    "        ageslist=[]\n",
    "        for k in ages:\n",
    "            ageslist.append(k)\n",
    "        ageslist.append(\"None\")\n",
    "        ageslist.append(\"None\")\n",
    "        if(\"0周岁\" in ageslist[1] or (\"日\" in ageslist[1] and \"周岁\" in ageslist[0])):\n",
    "            return str(ageslist[0])\n",
    "        else:\n",
    "            return str(ageslist[1])\n",
    "    return \"None\""
   ]
  },
  {
   "cell_type": "code",
   "execution_count": 229,
   "metadata": {},
   "outputs": [],
   "source": [
    "###保险期间长度---------------------------------------------------未完待续\n",
    "def extract_2(sentences):\n",
    "    results=set()\n",
    "    for sentence in sentences:\n",
    "        if (\"百年人寿\" not in sentence and \"保险期间\" in sentence and re.search('([0-9一二三四五六七八九十零百])+(天|日|年|月|个月|周)',sentence)!=None):\n",
    "            results.add(sentence)\n",
    "    for s in results:\n",
    "        tmp=re.findall(r'([0-9一二三四五六七八九十零百]+[日天个月年周]+)',s)\n",
    "        dates=[]\n",
    "        for s in tmp:\n",
    "            if(\"年\" in s and len(s)>3):\n",
    "                continue\n",
    "            dates.append(s)\n",
    "        dates.append(\"None\")\n",
    "        return str(dates[0])\n",
    "    return \"None\"\n",
    "    "
   ]
  },
  {
   "cell_type": "code",
   "execution_count": 230,
   "metadata": {},
   "outputs": [],
   "source": [
    "###缴费方式-------------------------------------------------------\n",
    "def extract_3(sentences):\n",
    "    results=set()\n",
    "    for sentence in sentences:\n",
    "        if (\"保险费\" in sentence and \"退还\" not in sentence and \"豁免\" not in sentence and \"续\" not in sentence):\n",
    "            tmp=re.search('(一次性|分期).+保险费',sentence)\n",
    "            if(tmp==None or (\"一次性\" not in sentence and \"分期\" not in sentence)):\n",
    "                continue\n",
    "                return \"None\"\n",
    "            return str(tmp.group(0))"
   ]
  },
  {
   "cell_type": "code",
   "execution_count": 231,
   "metadata": {},
   "outputs": [],
   "source": [
    "###犹豫期\n",
    "def extract_4(sentences):\n",
    "    results=set()\n",
    "    for sentence in sentences:\n",
    "        if (\"犹豫期\" in sentence and re.search('[0-9一二三四五六七八九十零百]+(日|周|天|月)',sentence)!=None):\n",
    "            results.add(sentence)\n",
    "    for s in results:\n",
    "        tmp=re.findall(r'([0-9一二三四五六七八九十零百]+[日周天月]+)',s)\n",
    "        dates=[]\n",
    "        for s in tmp:\n",
    "            dates.append(s)\n",
    "        return str(dates[0])"
   ]
  },
  {
   "cell_type": "code",
   "execution_count": 232,
   "metadata": {},
   "outputs": [],
   "source": [
    "###犹豫期后退还金额-------------------------------------------------------\n",
    "def extract_5(sentences):\n",
    "    results=set()\n",
    "    for sentence in sentences:\n",
    "        if (\"start\" in sentence or \"end\" in sentence or \"---\" in sentence):\n",
    "            continue\n",
    "        if (\"退还\" in sentence and \"保险费\" in sentence):\n",
    "            tmp=re.search('退还(.*保险费)',sentence)\n",
    "            if(\"不退还\" in sentence or tmp==None):\n",
    "                return \"None\"\n",
    "            return str(tmp.group(0))"
   ]
  },
  {
   "cell_type": "code",
   "execution_count": 233,
   "metadata": {},
   "outputs": [],
   "source": [
    "###犹豫期后退还时长\n",
    "def extract_6(sentences):\n",
    "    results=set()\n",
    "    for sentence in sentences:\n",
    "        if (\"宽限期\" not in sentence and \"百年人寿\" not in sentence and \"退还\" in sentence and re.search('([0-9一二三四五六七八九十零百])+(天|日|年|月|个月|周)',sentence)!=None):\n",
    "            results.add(sentence)\n",
    "    for s in results:\n",
    "        tmp=re.findall(r'([0-9一二三四五六七八九十零百]+[日天个月年周]+)',s)\n",
    "        dates=[]\n",
    "        for s in tmp:\n",
    "            dates.append(s)\n",
    "        dates.append(\"None\")\n",
    "        return str(dates[0])\n",
    "    return \"None\""
   ]
  },
  {
   "cell_type": "code",
   "execution_count": 234,
   "metadata": {},
   "outputs": [],
   "source": [
    "###工本费-------------------------------------------------------\n",
    "def extract_7(sentences):\n",
    "    results=set()\n",
    "    for sentence in sentences:\n",
    "        if (\"扣除\" in sentence and \"工本费\" in sentence):\n",
    "            tmp=re.search('扣除(.+元).*工本费',sentence)\n",
    "            if(tmp==None):\n",
    "                return \"None\"\n",
    "            return str(tmp.group(0))"
   ]
  },
  {
   "cell_type": "code",
   "execution_count": 235,
   "metadata": {},
   "outputs": [],
   "source": [
    "###宽限期长度\n",
    "def extract_8(sentences):\n",
    "    results=set()\n",
    "    for sentence in sentences:\n",
    "        if (\"start\" in sentence or \"end\" in sentence or \"---\" in sentence):\n",
    "            continue\n",
    "        if (\"宽限\" in sentence and re.search('([0-9一二三四五六七八九十零百])+(天|日|年|月|个月)',sentence)!=None):\n",
    "            results.add(sentence)\n",
    "    for s in results:\n",
    "        tmp=re.findall(r'([0-9一二三四五六七八九十零百]+[日天年]+)',s)\n",
    "        dates=[]\n",
    "        for s in tmp:\n",
    "            if(\"年\" in s and len(s)>3):\n",
    "                continue\n",
    "            if(\"一日\" in s):\n",
    "                continue\n",
    "            dates.append(s)\n",
    "        dates.append(\"None\")\n",
    "        return str(dates[0])\n",
    "    return \"None\""
   ]
  },
  {
   "cell_type": "code",
   "execution_count": 236,
   "metadata": {},
   "outputs": [],
   "source": [
    "def extract_9(sentences):\n",
    "    return \"None\""
   ]
  },
  {
   "cell_type": "code",
   "execution_count": 237,
   "metadata": {},
   "outputs": [],
   "source": [
    "def extract_10(sentences):\n",
    "    return \"None\""
   ]
  },
  {
   "cell_type": "code",
   "execution_count": 238,
   "metadata": {},
   "outputs": [],
   "source": [
    "def extract_11(sentences):\n",
    "    return \"None\""
   ]
  },
  {
   "cell_type": "code",
   "execution_count": 239,
   "metadata": {},
   "outputs": [],
   "source": [
    "def extract_12(sentences):\n",
    "    return \"None\""
   ]
  },
  {
   "cell_type": "code",
   "execution_count": 240,
   "metadata": {},
   "outputs": [],
   "source": [
    "def extract_13(sentences):\n",
    "    return \"None\""
   ]
  },
  {
   "cell_type": "code",
   "execution_count": 241,
   "metadata": {},
   "outputs": [],
   "source": [
    "def extract_14(sentences):\n",
    "    return \"None\""
   ]
  },
  {
   "cell_type": "code",
   "execution_count": 242,
   "metadata": {},
   "outputs": [],
   "source": [
    "def extract_15(sentences):\n",
    "    return \"None\""
   ]
  },
  {
   "cell_type": "code",
   "execution_count": 243,
   "metadata": {},
   "outputs": [],
   "source": [
    "def extract_16(sentences):\n",
    "    return \"None\""
   ]
  },
  {
   "cell_type": "code",
   "execution_count": 244,
   "metadata": {},
   "outputs": [],
   "source": [
    "def extract_17(sentences):\n",
    "    return \"None\""
   ]
  },
  {
   "cell_type": "code",
   "execution_count": 245,
   "metadata": {},
   "outputs": [],
   "source": [
    "def extract_18(sentences):\n",
    "    return \"None\""
   ]
  },
  {
   "cell_type": "code",
   "execution_count": 246,
   "metadata": {},
   "outputs": [],
   "source": [
    "def extract_19(sentences):\n",
    "    return \"None\""
   ]
  },
  {
   "cell_type": "code",
   "execution_count": 247,
   "metadata": {},
   "outputs": [],
   "source": [
    "def extract_20(sentences):\n",
    "    return \"None\""
   ]
  },
  {
   "cell_type": "code",
   "execution_count": 248,
   "metadata": {},
   "outputs": [],
   "source": [
    "def extract_21(sentences):\n",
    "    return \"None\""
   ]
  },
  {
   "cell_type": "code",
   "execution_count": 249,
   "metadata": {},
   "outputs": [],
   "source": [
    "def extract_22(sentences):\n",
    "    return \"None\""
   ]
  },
  {
   "cell_type": "code",
   "execution_count": 250,
   "metadata": {},
   "outputs": [],
   "source": [
    "###贷款期限-------------------------------------------------------√\n",
    "def extract_23(sentences):\n",
    "    results=set()\n",
    "    for sentence in sentences:\n",
    "        if (\"期限\" in sentence and re.search('([0-9一二三四五六七八九十零百])+[天|日|年|月|个月]',sentence)!=None):\n",
    "            results.add(sentence)\n",
    "    for s in results:\n",
    "        tmp=re.findall(r'([0-9一二三四五六七八九十零百]+[日个月]+)',s)\n",
    "        dates=[]\n",
    "        for s in tmp:\n",
    "            dates.append(s)\n",
    "        dates.append(\"None\")\n",
    "        return str(dates[0])\n",
    "    return \"None\""
   ]
  },
  {
   "cell_type": "code",
   "execution_count": 251,
   "metadata": {},
   "outputs": [],
   "source": [
    "def extract_24(sentences):\n",
    "    return \"None\""
   ]
  },
  {
   "cell_type": "code",
   "execution_count": 252,
   "metadata": {},
   "outputs": [],
   "source": [
    "def extract_25(sentences):\n",
    "    return \"None\""
   ]
  },
  {
   "cell_type": "code",
   "execution_count": 253,
   "metadata": {},
   "outputs": [],
   "source": [
    "def extract_26(sentences):\n",
    "    return \"None\""
   ]
  },
  {
   "cell_type": "code",
   "execution_count": 254,
   "metadata": {},
   "outputs": [],
   "source": [
    "###疾病观察期-------------------------------------------------------√\n",
    "def extract_27(sentences):\n",
    "    results=set()\n",
    "    for sentence in sentences:\n",
    "        if (\"百年人寿\" not in sentence and \"确诊\" in sentence and re.search('([0-9一二三四五六七八九十零百])+(天|日|年|月|个月)',sentence)!=None and re.search('[0-9]+年[0-9]+月[0-9]日',sentence)==None):\n",
    "            results.add(sentence)\n",
    "    for s in results:\n",
    "        tmp=re.findall(r'([0-9一二三四五六七八九十零百]+[日|天|年|个月]+)',s)\n",
    "        dates=[]\n",
    "        for s in tmp:\n",
    "            if(\"年\" in s and len(s)>3):\n",
    "                continue\n",
    "            dates.append(s)\n",
    "        dates.append(\"None\")\n",
    "        return str(dates[0])\n",
    "    return \"None\""
   ]
  },
  {
   "cell_type": "code",
   "execution_count": 255,
   "metadata": {},
   "outputs": [],
   "source": [
    "def extract_28(sentences):\n",
    "    return \"None\""
   ]
  },
  {
   "cell_type": "code",
   "execution_count": 256,
   "metadata": {},
   "outputs": [],
   "source": [
    "def extract_29(sentences):\n",
    "    return \"None\""
   ]
  },
  {
   "cell_type": "code",
   "execution_count": 257,
   "metadata": {},
   "outputs": [],
   "source": [
    "def extract_30(sentences):\n",
    "    return \"None\""
   ]
  },
  {
   "cell_type": "code",
   "execution_count": null,
   "metadata": {},
   "outputs": [],
   "source": []
  }
 ],
 "metadata": {
  "kernelspec": {
   "display_name": "Python 3",
   "language": "python",
   "name": "python3"
  },
  "language_info": {
   "codemirror_mode": {
    "name": "ipython",
    "version": 3
   },
   "file_extension": ".py",
   "mimetype": "text/x-python",
   "name": "python",
   "nbconvert_exporter": "python",
   "pygments_lexer": "ipython3",
   "version": "3.7.2"
  }
 },
 "nbformat": 4,
 "nbformat_minor": 2
}
