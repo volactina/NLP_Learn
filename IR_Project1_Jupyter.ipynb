{
 "cells": [
  {
   "cell_type": "code",
   "execution_count": 1,
   "metadata": {},
   "outputs": [],
   "source": [
    "import os\n",
    "import re"
   ]
  },
  {
   "cell_type": "code",
   "execution_count": 108,
   "metadata": {},
   "outputs": [
    {
     "name": "stdout",
     "output_type": "stream",
     "text": [
      "1000\n",
      "C:\\Users\\叶文豪\\Desktop\\NLP\\IR_PROJECT\\PROJECT 1\\IT\\Project_Data\\07ce4a4a-0591-4d68-88d3-34118056d81a_TERMS.txt\n"
     ]
    }
   ],
   "source": [
    "#列出文件夹下所有的目录与文件\n",
    "rootdir=r'C:\\Users\\叶文豪\\Desktop\\NLP\\IR_PROJECT\\PROJECT 1\\IT\\Project_Data'\n",
    "list = os.listdir(rootdir) \n",
    "print(len(list))\n",
    "#选取一个文件进行实验\n",
    "path = os.path.join(rootdir, list[28])\n",
    "print(path)"
   ]
  },
  {
   "cell_type": "code",
   "execution_count": 109,
   "metadata": {},
   "outputs": [],
   "source": [
    "def cmp_age(a,b):\n",
    "    if (\"周岁\" in a and \"日\" in b):\n",
    "        return True\n",
    "    if (\"日\" in a and \"周岁\" in b):\n",
    "        return False\n",
    "    #这边没有写完，不想写了\n",
    "    return True"
   ]
  },
  {
   "cell_type": "code",
   "execution_count": 137,
   "metadata": {},
   "outputs": [
    {
     "name": "stdout",
     "output_type": "stream",
     "text": [
      "----------------------------第一次筛选后，剩余岁数的句子------------------------------------\n",
      "3\n",
      "条款目录您拥有的重要权益签收本合同的次日零时起15日（即犹豫期）内您若要求退保\n",
      "您拥有的重要权益签收本合同的次日零时起15日（即犹豫期）内您若要求退保\n",
      "有15日的犹豫期\n"
     ]
    }
   ],
   "source": [
    "with open(path,'r',encoding='utf-8') as f:\n",
    "    text=f.read()\n",
    "    sentences=re.split('[ ，。．：.；]',text)\n",
    "#     extract_age(sentences)\n",
    "    extract_youyuqi(sentences)\n",
    "    "
   ]
  },
  {
   "cell_type": "code",
   "execution_count": 133,
   "metadata": {},
   "outputs": [],
   "source": [
    "def extract_age(sentences):\n",
    "    results=set()\n",
    "    for sentence in sentences:\n",
    "        if (\"start\" in sentence or \"end\" in sentence or \"---\" in sentence):\n",
    "            continue\n",
    "        if ((\"日\" in sentence or \"周岁\" in sentence) and re.search('([0-9一二三四五六七八九十零])+[日|周岁]',sentence)!=None):\n",
    "#             print(sentence)\n",
    "            results.add(sentence)\n",
    "#     print(sentences.__sizeof__())\n",
    "    print(\"----------------------------第一次筛选后，剩余岁数的句子------------------------------------\")\n",
    "    print(len(results))\n",
    "    results2=set()\n",
    "    for s in results:\n",
    "        print(s)\n",
    "        if(\"投保\" in s):\n",
    "            results2.add(s)\n",
    "    print(\"----------------------------第二次筛选后，包含投保的句子------------------------------------\")\n",
    "    print(len(results2))\n",
    "    print(results2)\n",
    "    results3=set()\n",
    "    for s in results2:\n",
    "        if(\"投保年龄\" in s or \"投保范围\" in s):\n",
    "            results3.add(s)\n",
    "    print(\"----------------------------第三次筛选后，可能包含投保年龄范围的句子------------------------------------\")\n",
    "    print(len(results3))\n",
    "    print(results3)\n",
    "    print(\"----------------------------第四次筛选后，至少包含2个年龄的句子并抽取------------------------------------\")\n",
    "    for s in results3:\n",
    "#         tmp=re.search(r'([0-9一二三四五六七八九十零]+日|周岁)(.*?)([0-9一二三四五六七八九十零]+日|周岁)',s)\n",
    "        tmp=re.findall(r'([0-9一二三四五六七八九十零]+(日|周岁))',s)\n",
    "        ages=set()\n",
    "        for k in tmp:\n",
    "            ages.add(k[0])\n",
    "        ageslist=[]\n",
    "        for k in ages:\n",
    "            ageslist.append(k)\n",
    "        if(cmp_age(ageslist[0],ageslist[1])):\n",
    "            ageslist[0],ageslist[1]=ageslist[1],ageslist[0]\n",
    "        print(\"年龄下限:\"+ageslist[0]+\",年龄上限:\"+ageslist[1])\n",
    "    print(\"----------------------------抽取年龄范围------------------------------------\")"
   ]
  },
  {
   "cell_type": "code",
   "execution_count": 136,
   "metadata": {},
   "outputs": [],
   "source": [
    "def extract_youyuqi(sentences):\n",
    "    results=set()\n",
    "    for sentence in sentences:\n",
    "        if (\"start\" in sentence or \"end\" in sentence or \"---\" in sentence):\n",
    "            continue\n",
    "        if (\"犹豫期\" in sentence and re.search('[0-9一二三四五六七八九十零]+日',sentence)!=None):\n",
    "            results.add(sentence)\n",
    "    print(\"----------------------------第一次筛选后，剩余岁数的句子------------------------------------\")\n",
    "    print(len(results))\n",
    "    for s in results:\n",
    "        print(s)"
   ]
  },
  {
   "cell_type": "code",
   "execution_count": null,
   "metadata": {},
   "outputs": [],
   "source": [
    "def generate_result()"
   ]
  }
 ],
 "metadata": {
  "kernelspec": {
   "display_name": "Python 3",
   "language": "python",
   "name": "python3"
  },
  "language_info": {
   "codemirror_mode": {
    "name": "ipython",
    "version": 3
   },
   "file_extension": ".py",
   "mimetype": "text/x-python",
   "name": "python",
   "nbconvert_exporter": "python",
   "pygments_lexer": "ipython3",
   "version": "3.7.2"
  }
 },
 "nbformat": 4,
 "nbformat_minor": 2
}
